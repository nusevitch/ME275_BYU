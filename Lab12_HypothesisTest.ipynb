{
  "nbformat": 4,
  "nbformat_minor": 0,
  "metadata": {
    "colab": {
      "provenance": [],
      "authorship_tag": "ABX9TyO+mYxoJZfQfHm7y6PxdNVz",
      "include_colab_link": true
    },
    "kernelspec": {
      "name": "python3",
      "display_name": "Python 3"
    },
    "language_info": {
      "name": "python"
    }
  },
  "cells": [
    {
      "cell_type": "markdown",
      "metadata": {
        "id": "view-in-github",
        "colab_type": "text"
      },
      "source": [
        "<a href=\"https://colab.research.google.com/github/nusevitch/ME275_BYU/blob/main/Lab12_HypothesisTest.ipynb\" target=\"_parent\"><img src=\"https://colab.research.google.com/assets/colab-badge.svg\" alt=\"Open In Colab\"/></a>"
      ]
    },
    {
      "cell_type": "code",
      "execution_count": null,
      "metadata": {
        "id": "kLjGyncuj1jX"
      },
      "outputs": [],
      "source": [
        "import numpy as np\n",
        "import pandas as pd"
      ]
    },
    {
      "cell_type": "markdown",
      "source": [
        "This is the data for the lifetime of the two different designs of prosthetic devices  First, complete the analysis with design_1_Lifetime and design_2_Lifetime (step 1 of the lab).  Then do the analysis by combining all of the data for each design."
      ],
      "metadata": {
        "id": "GrEFaad4kCN9"
      }
    },
    {
      "cell_type": "code",
      "source": [
        "\n",
        "\n",
        "design_1_Lifetime=np.array([149.95249319, 216.36501676,  72.1709529,  215.65504431,  93.67056066,\n",
        " 146.91969126, 195.34865512, 129.62103647, 103.07464618,  64.68340789,\n",
        " 151.88922672, 179.49952827, 172.25081286, 129.25453224, 203.89549632,\n",
        "  96.20954747, 131.83893579,  88.83720984, 203.70548636, 262.28083558])\n",
        "design_2_Lifetime=np.array([151.17579622, 159.39871113, 231.13215036, 214.23324536, 185.89872528,\n",
        " 219.80435686, 139.93073226, 156.1284255,  152.60238643, 152.96424328,\n",
        " 197.5034093,  137.24043486, 153.20062702, 201.48425467, 160.09178834,\n",
        " 112.91578555, 132.70839006, 225.43578843, 113.05240527, 220.31618697])\n",
        "\n",
        "design_1_Lifetime_b=np.array([66.26356368, 153.93372543, 158.97887637, 194.12548617, 123.74543868,\n",
        "  74.75602308, 141.08391859, 120.87565193, 213.55203141, 180.38232981,\n",
        " 244.1915604,   61.9618006,  160.04594715, 133.367389,  132.2814939,\n",
        " 191.37662757, 233.73493016, 184.71814609, 226.92911448, 149.60362478])\n",
        "\n",
        "design_2_Lifetime_b=np.array([ 183.54507222, 201.5554732,  222.77811263, 210.75176305, 210.84790955,\n",
        " 194.66529558, 211.4585848,  212.5427531,  191.24090874, 140.37619517,\n",
        " 183.17749257, 100.6914919,  179.36435734, 170.74916635, 194.5955634,\n",
        " 162.47517403, 194.22996162, 199.09766347, 166.2979066,  256.08365141])\n"
      ],
      "metadata": {
        "id": "Ej6fq0YZj7UV"
      },
      "execution_count": null,
      "outputs": []
    },
    {
      "cell_type": "markdown",
      "source": [
        "Perform a hypothesis test using the permutations method"
      ],
      "metadata": {
        "id": "Y6PsEfuAkUpM"
      }
    },
    {
      "cell_type": "code",
      "source": [],
      "metadata": {
        "id": "fqLXmYh8kU8N"
      },
      "execution_count": null,
      "outputs": []
    },
    {
      "cell_type": "markdown",
      "source": [],
      "metadata": {
        "id": "FeLlPURBkYq9"
      }
    }
  ]
}