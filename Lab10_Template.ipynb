{
  "nbformat": 4,
  "nbformat_minor": 0,
  "metadata": {
    "colab": {
      "provenance": [],
      "authorship_tag": "ABX9TyP5Su6QP31Ki7b/DZiCdxMl",
      "include_colab_link": true
    },
    "kernelspec": {
      "name": "python3",
      "display_name": "Python 3"
    },
    "language_info": {
      "name": "python"
    }
  },
  "cells": [
    {
      "cell_type": "markdown",
      "metadata": {
        "id": "view-in-github",
        "colab_type": "text"
      },
      "source": [
        "<a href=\"https://colab.research.google.com/github/nusevitch/ME275_BYU/blob/main/Lab10_Template.ipynb\" target=\"_parent\"><img src=\"https://colab.research.google.com/assets/colab-badge.svg\" alt=\"Open In Colab\"/></a>"
      ]
    },
    {
      "cell_type": "code",
      "execution_count": 1,
      "metadata": {
        "id": "07mGBZ9WKo-X"
      },
      "outputs": [],
      "source": [
        "import numpy as np\n",
        "import pandas as pd"
      ]
    },
    {
      "cell_type": "code",
      "source": [
        "from os.path import basename, exists\n",
        "\n",
        "\n",
        "def download(url):\n",
        "    filename = basename(url)\n",
        "    if not exists(filename):\n",
        "        from urllib.request import urlretrieve\n",
        "\n",
        "        local, _ = urlretrieve(url, filename)\n",
        "        print(\"Downloaded \" + local)\n",
        "\n",
        "\n",
        "download(\"https://github.com/AllenDowney/ThinkStats2/raw/master/code/thinkstats2.py\")\n",
        "download(\"https://github.com/AllenDowney/ThinkStats2/raw/master/code/thinkplot.py\")"
      ],
      "metadata": {
        "id": "o43HYxR3X4UH",
        "colab": {
          "base_uri": "https://localhost:8080/"
        },
        "outputId": "8eee521a-e80f-4929-c686-03c840031e52"
      },
      "execution_count": 2,
      "outputs": [
        {
          "output_type": "stream",
          "name": "stdout",
          "text": [
            "Downloaded thinkstats2.py\n",
            "Downloaded thinkplot.py\n"
          ]
        }
      ]
    },
    {
      "cell_type": "code",
      "source": [
        "import thinkstats2\n",
        "import thinkplot"
      ],
      "metadata": {
        "id": "aAYId1jtjBKh"
      },
      "execution_count": 3,
      "outputs": []
    },
    {
      "cell_type": "markdown",
      "source": [
        "Read the data"
      ],
      "metadata": {
        "id": "019bowZDKRGO"
      }
    },
    {
      "cell_type": "code",
      "source": [
        "url = 'https://github.com/nusevitch/ME275_BYU/blob/main/ANSUR%20II%20MALE%20Public.csv'\n",
        "\n",
        "url = 'https://raw.githubusercontent.com/nusevitch/ME275_BYU/master/ANSUR%20II%20MALE%20Public.csv'\n",
        "url2 = 'https://raw.githubusercontent.com/nusevitch/ME275_BYU/master/ANSUR%20II%20FEMALE%20Public.csv'\n",
        "df1 = pd.read_csv(url, on_bad_lines='skip', encoding='latin-1')\n",
        "df2 = pd.read_csv(url2, on_bad_lines='skip', encoding='latin-1')"
      ],
      "metadata": {
        "id": "0zj0VGwTixWg"
      },
      "execution_count": 4,
      "outputs": []
    },
    {
      "cell_type": "code",
      "source": [
        "frames = [df1, df2]\n",
        "df = pd.concat(frames)\n",
        "df.shape"
      ],
      "metadata": {
        "id": "LMdqVcXli8mw",
        "colab": {
          "base_uri": "https://localhost:8080/"
        },
        "outputId": "31f1c391-08fd-4f7a-e2b4-8efd5b49f8a3"
      },
      "execution_count": 5,
      "outputs": [
        {
          "output_type": "execute_result",
          "data": {
            "text/plain": [
              "(6068, 109)"
            ]
          },
          "metadata": {},
          "execution_count": 5
        }
      ]
    },
    {
      "cell_type": "code",
      "source": [
        "Size_Avg=[435.436, 464.575, 485.984, 514.486]"
      ],
      "metadata": {
        "id": "JzQno-jsRFGb"
      },
      "execution_count": 6,
      "outputs": []
    },
    {
      "cell_type": "markdown",
      "source": [
        "Beginning of Lab 10\n",
        "From the data, fit a normal distribution to the men and women, compare on a normal probability plot"
      ],
      "metadata": {
        "id": "6e8tja5GG1fZ"
      }
    },
    {
      "cell_type": "code",
      "source": [],
      "metadata": {
        "id": "1DIgww1SG0pp"
      },
      "execution_count": 15,
      "outputs": []
    },
    {
      "cell_type": "markdown",
      "source": [
        "Next, compute Cohen's Effect Size between the height of male and female knees"
      ],
      "metadata": {
        "id": "KFmx2miSKiWu"
      }
    },
    {
      "cell_type": "code",
      "source": [],
      "metadata": {
        "id": "bzg0giFHLJaR"
      },
      "execution_count": 15,
      "outputs": []
    },
    {
      "cell_type": "markdown",
      "source": [
        "Generate a normal probability plot to see if participant weights might follow a normal distribution."
      ],
      "metadata": {
        "id": "Tfyahm0iIOOv"
      }
    },
    {
      "cell_type": "code",
      "source": [],
      "metadata": {
        "id": "8nouuxN8INUW"
      },
      "execution_count": 15,
      "outputs": []
    },
    {
      "cell_type": "markdown",
      "source": [
        "What percentage of men and women will be within 10 mm of the given sizes?"
      ],
      "metadata": {
        "id": "CKn_wn3sq7Ww"
      }
    },
    {
      "cell_type": "code",
      "source": [
        "\n",
        "[n_men, b]=df1.shape\n",
        "[n_women, b]=df2.shape\n",
        "\n"
      ],
      "metadata": {
        "id": "sYiANnA6HnvC"
      },
      "execution_count": 16,
      "outputs": []
    }
  ]
}